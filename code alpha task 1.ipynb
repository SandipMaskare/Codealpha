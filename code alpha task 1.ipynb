{
 "cells": [
  {
   "cell_type": "code",
   "execution_count": null,
   "id": "e015dff8",
   "metadata": {},
   "outputs": [
    {
     "name": "stdout",
     "output_type": "stream",
     "text": [
      "Password Generator\n",
      "Enter the desired password length: 9\n",
      "Include uppercase letters (yes/no): yes\n",
      "Include digits (yes/no): yes\n",
      "Include special characters (yes/no): yes\n",
      "Generated Password: [+NE:&{RL\n",
      "Generate another password? (yes/no): yes\n"
     ]
    }
   ],
   "source": [
    "import random\n",
    "import string\n",
    "\n",
    "def generate_password(length=12, use_uppercase=True, use_digits=True, use_special_chars=True):\n",
    "    characters = string.ascii_lowercase\n",
    "    if use_uppercase:\n",
    "        characters += string.ascii_uppercase\n",
    "    if use_digits:\n",
    "        characters += string.digits\n",
    "    if use_special_chars:\n",
    "        characters += string.punctuation\n",
    "\n",
    "    if len(characters) == 0:\n",
    "        print(\"No characters selected for password generation.\")\n",
    "        return\n",
    "\n",
    "    password = ''.join(random.choice(characters) for _ in range(length))\n",
    "    return password\n",
    "\n",
    "if __name__ == \"__main__\":\n",
    "    print(\"Password Generator\")\n",
    "\n",
    "    while True:\n",
    "        length = int(input(\"Enter the desired password length: \"))\n",
    "        use_uppercase = input(\"Include uppercase letters (yes/no): \").lower() == \"yes\"\n",
    "        use_digits = input(\"Include digits (yes/no): \").lower() == \"yes\"\n",
    "        use_special_chars = input(\"Include special characters (yes/no): \").lower() == \"yes\"\n",
    "\n",
    "        password = generate_password(length, use_uppercase, use_digits, use_special_chars)\n",
    "        print(f\"Generated Password: {password}\")\n",
    "\n",
    "        generate_another = input(\"Generate another password? (yes/no): \").lower()\n",
    "        if generate_another != \"yes\":\n",
    "            break\n"
   ]
  },
  {
   "cell_type": "code",
   "execution_count": null,
   "id": "64fac5e1",
   "metadata": {},
   "outputs": [],
   "source": []
  }
 ],
 "metadata": {
  "kernelspec": {
   "display_name": "Python 3 (ipykernel)",
   "language": "python",
   "name": "python3"
  },
  "language_info": {
   "codemirror_mode": {
    "name": "ipython",
    "version": 3
   },
   "file_extension": ".py",
   "mimetype": "text/x-python",
   "name": "python",
   "nbconvert_exporter": "python",
   "pygments_lexer": "ipython3",
   "version": "3.11.4"
  }
 },
 "nbformat": 4,
 "nbformat_minor": 5
}
